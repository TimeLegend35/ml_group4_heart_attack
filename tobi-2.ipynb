{
 "cells": [
  {
   "cell_type": "markdown",
   "metadata": {},
   "source": [
    "## Veraltet, tobi3 ist besser"
   ]
  },
  {
   "cell_type": "code",
   "execution_count": 1,
   "metadata": {},
   "outputs": [],
   "source": [
    "import pandas as pd\n",
    "import numpy as np\n",
    "\n",
    "# get raw Dataset\n",
    "data = pd.read_csv('data/raw_dataset/heart.csv')"
   ]
  },
  {
   "cell_type": "code",
   "execution_count": 2,
   "metadata": {},
   "outputs": [
    {
     "data": {
      "text/plain": [
       "array([[ 0.9521966 ,  0.76395577, -0.25633371, ...,  1.        ,\n",
       "         1.        ,  0.        ],\n",
       "       [-1.91531289, -0.09273778,  0.07219949, ...,  1.        ,\n",
       "         0.        ,  0.        ],\n",
       "       [-1.47415758, -0.09273778, -0.81677269, ...,  0.        ,\n",
       "         0.        ,  0.        ],\n",
       "       ...,\n",
       "       [ 1.50364073,  0.70684287, -1.029353  , ...,  1.        ,\n",
       "         1.        ,  0.        ],\n",
       "       [ 0.29046364, -0.09273778, -2.2275329 , ...,  1.        ,\n",
       "         0.        ,  1.        ],\n",
       "       [ 0.29046364, -0.09273778, -0.19835726, ...,  0.        ,\n",
       "         0.        ,  0.        ]])"
      ]
     },
     "metadata": {},
     "output_type": "display_data"
    },
    {
     "data": {
      "text/plain": [
       "0      1\n",
       "1      1\n",
       "2      1\n",
       "3      1\n",
       "4      1\n",
       "      ..\n",
       "298    0\n",
       "299    0\n",
       "300    0\n",
       "301    0\n",
       "302    0\n",
       "Name: output, Length: 303, dtype: int64"
      ]
     },
     "metadata": {},
     "output_type": "display_data"
    },
    {
     "data": {
      "text/plain": [
       "array([1, 1, 1, 1, 1, 1, 1, 1, 1, 1, 1, 1, 1, 1, 1, 1, 1, 1, 1, 1, 1, 1,\n",
       "       1, 1, 1, 1, 1, 1, 1, 1, 1, 1, 1, 1, 1, 1, 1, 1, 1, 1, 1, 1, 1, 1,\n",
       "       1, 1, 1, 1, 1, 1, 1, 1, 1, 1, 1, 1, 1, 1, 1, 1, 1, 1, 1, 1, 1, 1,\n",
       "       1, 1, 1, 1, 1, 1, 1, 1, 1, 1, 1, 1, 1, 1, 1, 1, 1, 1, 1, 1, 1, 1,\n",
       "       1, 1, 1, 1, 1, 1, 1, 1, 1, 1, 1, 1, 1, 1, 1, 1, 1, 1, 1, 1, 1, 1,\n",
       "       1, 1, 1, 1, 1, 1, 1, 1, 1, 1, 1, 1, 1, 1, 1, 1, 1, 1, 1, 1, 1, 1,\n",
       "       1, 1, 1, 1, 1, 1, 1, 1, 1, 1, 1, 1, 1, 1, 1, 1, 1, 1, 1, 1, 1, 1,\n",
       "       1, 1, 1, 1, 1, 1, 1, 1, 1, 1, 1, 0, 0, 0, 0, 0, 0, 0, 0, 0, 0, 0,\n",
       "       0, 0, 0, 0, 0, 0, 0, 0, 0, 0, 0, 0, 0, 0, 0, 0, 0, 0, 0, 0, 0, 0,\n",
       "       0, 0, 0, 0, 0, 0, 0, 0, 0, 0, 0, 0, 0, 0, 0, 0, 0, 0, 0, 0, 0, 0,\n",
       "       0, 0, 0, 0, 0, 0, 0, 0, 0, 0, 0, 0, 0, 0, 0, 0, 0, 0, 0, 0, 0, 0,\n",
       "       0, 0, 0, 0, 0, 0, 0, 0, 0, 0, 0, 0, 0, 0, 0, 0, 0, 0, 0, 0, 0, 0,\n",
       "       0, 0, 0, 0, 0, 0, 0, 0, 0, 0, 0, 0, 0, 0, 0, 0, 0, 0, 0, 0, 0, 0,\n",
       "       0, 0, 0, 0, 0, 0, 0, 0, 0, 0, 0, 0, 0, 0, 0, 0, 0], dtype=int64)"
      ]
     },
     "metadata": {},
     "output_type": "display_data"
    }
   ],
   "source": [
    "from sklearn.pipeline import Pipeline\n",
    "from sklearn.preprocessing import OneHotEncoder, OrdinalEncoder, StandardScaler\n",
    "from sklearn.compose import ColumnTransformer\n",
    "\n",
    "# Define the features (X) and the target variable (y)\n",
    "X = data.drop(columns=['output'])  # Features (all columns except 'output')\n",
    "y = data['output']  # Target variable\n",
    "\n",
    "# list all numerical features that we want to re-scale\n",
    "numeric_features = ['age', 'trtbps', 'chol', 'thalachh', 'oldpeak']\n",
    "numeric_transformer = Pipeline([ ('scaler', StandardScaler()) ])\n",
    "\n",
    "# list all categorical features that we want to encode using OneHotEncoder\n",
    "categorical_features = ['cp', 'restecg', 'restecg', 'caa', 'thall']\n",
    "categorical_transformer = Pipeline([ ('onehot', OneHotEncoder()) ])\n",
    "\n",
    "# list all ordinal features that we want to encode using OrdinalEncoder\n",
    "ordinal_features = ['sex',  'fbs', 'exng']\n",
    "ordinal_transformer = Pipeline([ ('ordinal', OrdinalEncoder()) ])\n",
    "\n",
    "# define the ColumnTransformer\n",
    "preprocessor = ColumnTransformer(\n",
    "    transformers=[\n",
    "        ('num', numeric_transformer, numeric_features),\n",
    "        ('cat', categorical_transformer, categorical_features),\n",
    "        ('ord', ordinal_transformer, ordinal_features)])\n",
    "\n",
    "display(preprocessor.fit_transform(X))\n",
    "display(y)\n",
    "# Filter y_test to contain only 0 and 1 values\n",
    "filtered_y = y[y.isin([0, 1])]\n",
    "display(filtered_y.values)"
   ]
  },
  {
   "cell_type": "code",
   "execution_count": 3,
   "metadata": {},
   "outputs": [],
   "source": [
    "import numpy as np\n",
    "from sklearn.metrics import roc_curve, auc\n",
    "from scipy import interp\n",
    "\n",
    "def avg_roc(cv, estimator, data, target, pos_label):\n",
    "    mean_fpr = np.linspace(0, 1, 100)\n",
    "    tprs = []\n",
    "    aucs = []\n",
    "\n",
    "    for train_indices, test_indices in cv.split(data, target):\n",
    "        train_data = data.iloc[train_indices]\n",
    "        train_target = target.iloc[train_indices]\n",
    "        estimator.fit(train_data, train_target)\n",
    "\n",
    "        test_data = data.iloc[test_indices]\n",
    "        test_target = target.iloc[test_indices]\n",
    "\n",
    "        decision_for_each_class = estimator.predict_proba(test_data)  # Use predict_proba\n",
    "\n",
    "        fpr, tpr, thresholds = roc_curve(test_target, decision_for_each_class[:, pos_label], pos_label=pos_label)\n",
    "        tprs.append(interp(mean_fpr, fpr, tpr))\n",
    "        tprs[-1][0] = 0.0\n",
    "        aucs.append(auc(fpr, tpr))\n",
    "\n",
    "    mean_tpr = np.mean(tprs, axis=0)\n",
    "    mean_tpr[-1] = 1.0\n",
    "    mean_auc = auc(mean_fpr, mean_tpr)\n",
    "    std_auc = np.std(aucs)\n",
    "\n",
    "    return mean_fpr, mean_tpr, mean_auc, std_auc\n"
   ]
  },
  {
   "cell_type": "code",
   "execution_count": 8,
   "metadata": {},
   "outputs": [
    {
     "ename": "KeyError",
     "evalue": "\"None of [Index([ 12,  19,  22,  23,  34,  51,  54,  60,  66,  69, 101, 111, 121, 124,\\n       127, 147, 162, 165, 167, 168, 179, 180, 181, 197, 219, 233, 257, 259,\\n       276, 281, 288],\\n      dtype='int32')] are in the [columns]\"",
     "output_type": "error",
     "traceback": [
      "\u001b[1;31m---------------------------------------------------------------------------\u001b[0m",
      "\u001b[1;31mKeyError\u001b[0m                                  Traceback (most recent call last)",
      "\u001b[1;32mc:\\Users\\I573015\\OneDrive - SAP SE\\Hochschule\\Vorlesungen\\Aktuelle Themen der IT\\ML_GROUP_PROJECT_GIT\\ml_group4_heart_attack\\tobi-2.ipynb Cell 4\u001b[0m line \u001b[0;36m3\n\u001b[0;32m     <a href='vscode-notebook-cell:/c%3A/Users/I573015/OneDrive%20-%20SAP%20SE/Hochschule/Vorlesungen/Aktuelle%20Themen%20der%20IT/ML_GROUP_PROJECT_GIT/ml_group4_heart_attack/tobi-2.ipynb#W3sZmlsZQ%3D%3D?line=31'>32</a>\u001b[0m \u001b[39m# Iterate through the folds and use the corresponding test_indices\u001b[39;00m\n\u001b[0;32m     <a href='vscode-notebook-cell:/c%3A/Users/I573015/OneDrive%20-%20SAP%20SE/Hochschule/Vorlesungen/Aktuelle%20Themen%20der%20IT/ML_GROUP_PROJECT_GIT/ml_group4_heart_attack/tobi-2.ipynb#W3sZmlsZQ%3D%3D?line=32'>33</a>\u001b[0m \u001b[39mfor\u001b[39;00m fold_index, test_indices \u001b[39min\u001b[39;00m \u001b[39menumerate\u001b[39m(test_indices_list):\n\u001b[1;32m---> <a href='vscode-notebook-cell:/c%3A/Users/I573015/OneDrive%20-%20SAP%20SE/Hochschule/Vorlesungen/Aktuelle%20Themen%20der%20IT/ML_GROUP_PROJECT_GIT/ml_group4_heart_attack/tobi-2.ipynb#W3sZmlsZQ%3D%3D?line=33'>34</a>\u001b[0m     train_data \u001b[39m=\u001b[39m X[test_indices]\n\u001b[0;32m     <a href='vscode-notebook-cell:/c%3A/Users/I573015/OneDrive%20-%20SAP%20SE/Hochschule/Vorlesungen/Aktuelle%20Themen%20der%20IT/ML_GROUP_PROJECT_GIT/ml_group4_heart_attack/tobi-2.ipynb#W3sZmlsZQ%3D%3D?line=34'>35</a>\u001b[0m     train_target \u001b[39m=\u001b[39m filtered_y[test_indices]\n\u001b[0;32m     <a href='vscode-notebook-cell:/c%3A/Users/I573015/OneDrive%20-%20SAP%20SE/Hochschule/Vorlesungen/Aktuelle%20Themen%20der%20IT/ML_GROUP_PROJECT_GIT/ml_group4_heart_attack/tobi-2.ipynb#W3sZmlsZQ%3D%3D?line=36'>37</a>\u001b[0m     mean_fpr, mean_tpr, mean_auc, std_auc \u001b[39m=\u001b[39m avg_roc(cv, pipeline, train_data, train_target, \u001b[39m1\u001b[39m)\n",
      "File \u001b[1;32mc:\\Users\\I573015\\AppData\\Local\\Programs\\Python\\Python312\\Lib\\site-packages\\pandas\\core\\frame.py:3899\u001b[0m, in \u001b[0;36mDataFrame.__getitem__\u001b[1;34m(self, key)\u001b[0m\n\u001b[0;32m   3897\u001b[0m     \u001b[39mif\u001b[39;00m is_iterator(key):\n\u001b[0;32m   3898\u001b[0m         key \u001b[39m=\u001b[39m \u001b[39mlist\u001b[39m(key)\n\u001b[1;32m-> 3899\u001b[0m     indexer \u001b[39m=\u001b[39m \u001b[39mself\u001b[39;49m\u001b[39m.\u001b[39;49mcolumns\u001b[39m.\u001b[39;49m_get_indexer_strict(key, \u001b[39m\"\u001b[39;49m\u001b[39mcolumns\u001b[39;49m\u001b[39m\"\u001b[39;49m)[\u001b[39m1\u001b[39m]\n\u001b[0;32m   3901\u001b[0m \u001b[39m# take() does not accept boolean indexers\u001b[39;00m\n\u001b[0;32m   3902\u001b[0m \u001b[39mif\u001b[39;00m \u001b[39mgetattr\u001b[39m(indexer, \u001b[39m\"\u001b[39m\u001b[39mdtype\u001b[39m\u001b[39m\"\u001b[39m, \u001b[39mNone\u001b[39;00m) \u001b[39m==\u001b[39m \u001b[39mbool\u001b[39m:\n",
      "File \u001b[1;32mc:\\Users\\I573015\\AppData\\Local\\Programs\\Python\\Python312\\Lib\\site-packages\\pandas\\core\\indexes\\base.py:6114\u001b[0m, in \u001b[0;36mIndex._get_indexer_strict\u001b[1;34m(self, key, axis_name)\u001b[0m\n\u001b[0;32m   6111\u001b[0m \u001b[39melse\u001b[39;00m:\n\u001b[0;32m   6112\u001b[0m     keyarr, indexer, new_indexer \u001b[39m=\u001b[39m \u001b[39mself\u001b[39m\u001b[39m.\u001b[39m_reindex_non_unique(keyarr)\n\u001b[1;32m-> 6114\u001b[0m \u001b[39mself\u001b[39;49m\u001b[39m.\u001b[39;49m_raise_if_missing(keyarr, indexer, axis_name)\n\u001b[0;32m   6116\u001b[0m keyarr \u001b[39m=\u001b[39m \u001b[39mself\u001b[39m\u001b[39m.\u001b[39mtake(indexer)\n\u001b[0;32m   6117\u001b[0m \u001b[39mif\u001b[39;00m \u001b[39misinstance\u001b[39m(key, Index):\n\u001b[0;32m   6118\u001b[0m     \u001b[39m# GH 42790 - Preserve name from an Index\u001b[39;00m\n",
      "File \u001b[1;32mc:\\Users\\I573015\\AppData\\Local\\Programs\\Python\\Python312\\Lib\\site-packages\\pandas\\core\\indexes\\base.py:6175\u001b[0m, in \u001b[0;36mIndex._raise_if_missing\u001b[1;34m(self, key, indexer, axis_name)\u001b[0m\n\u001b[0;32m   6173\u001b[0m     \u001b[39mif\u001b[39;00m use_interval_msg:\n\u001b[0;32m   6174\u001b[0m         key \u001b[39m=\u001b[39m \u001b[39mlist\u001b[39m(key)\n\u001b[1;32m-> 6175\u001b[0m     \u001b[39mraise\u001b[39;00m \u001b[39mKeyError\u001b[39;00m(\u001b[39mf\u001b[39m\u001b[39m\"\u001b[39m\u001b[39mNone of [\u001b[39m\u001b[39m{\u001b[39;00mkey\u001b[39m}\u001b[39;00m\u001b[39m] are in the [\u001b[39m\u001b[39m{\u001b[39;00maxis_name\u001b[39m}\u001b[39;00m\u001b[39m]\u001b[39m\u001b[39m\"\u001b[39m)\n\u001b[0;32m   6177\u001b[0m not_found \u001b[39m=\u001b[39m \u001b[39mlist\u001b[39m(ensure_index(key)[missing_mask\u001b[39m.\u001b[39mnonzero()[\u001b[39m0\u001b[39m]]\u001b[39m.\u001b[39munique())\n\u001b[0;32m   6178\u001b[0m \u001b[39mraise\u001b[39;00m \u001b[39mKeyError\u001b[39;00m(\u001b[39mf\u001b[39m\u001b[39m\"\u001b[39m\u001b[39m{\u001b[39;00mnot_found\u001b[39m}\u001b[39;00m\u001b[39m not in index\u001b[39m\u001b[39m\"\u001b[39m)\n",
      "\u001b[1;31mKeyError\u001b[0m: \"None of [Index([ 12,  19,  22,  23,  34,  51,  54,  60,  66,  69, 101, 111, 121, 124,\\n       127, 147, 162, 165, 167, 168, 179, 180, 181, 197, 219, 233, 257, 259,\\n       276, 281, 288],\\n      dtype='int32')] are in the [columns]\""
     ]
    },
    {
     "data": {
      "image/png": "[encoded data removed]",
      "text/plain": [
       "<Figure size 1000x1000 with 1 Axes>"
      ]
     },
     "metadata": {},
     "output_type": "display_data"
    }
   ],
   "source": [
    "from sklearn.neighbors import KNeighborsClassifier\n",
    "from sklearn.tree import DecisionTreeClassifier\n",
    "import matplotlib.pyplot as plt\n",
    "from sklearn.model_selection import StratifiedKFold\n",
    "\n",
    "# Define the cross-validation folds\n",
    "cv = StratifiedKFold(n_splits=10, shuffle=True, random_state=42)\n",
    "\n",
    "# create the pipeline, we will set the estimator later\n",
    "pipeline = Pipeline([('preprocessing', preprocessor), ('estimator', None)])\n",
    "\n",
    "# Create an empty list to store the test indices for each fold\n",
    "test_indices_list = []\n",
    "\n",
    "# Iterate through the cross-validation splits and collect test indices\n",
    "for train_indices, test_indices in cv.split(X, filtered_y):\n",
    "    test_indices_list.append(test_indices)\n",
    "\n",
    "# Define a function to plot ROC curves\n",
    "def plot_roc(mean_fpr, mean_tpr, mean_auc, std_auc, label):\n",
    "    plt.plot(mean_fpr, mean_tpr, label=f'{label} (AUC: {mean_auc:.3f} $\\\\pm$ {std_auc:.3f})')\n",
    "\n",
    "# setup a figure\n",
    "plt.figure(figsize=(10, 10))\n",
    "plt.plot([0, 1], [0, 1], linestyle='--', lw=2, color='r', label='Random', alpha=.8)  # draw diagonal\n",
    "\n",
    "# KNN\n",
    "pipeline.set_params(estimator=KNeighborsClassifier())\n",
    "for n_neighbour in [2, 3, 4, 5, 6]:\n",
    "    pipeline.set_params(estimator__n_neighbors=n_neighbour)\n",
    "    \n",
    "    # Iterate through the folds and use the corresponding test_indices\n",
    "    for fold_index, test_indices in enumerate(test_indices_list):\n",
    "        train_data = X[test_indices]\n",
    "        train_target = filtered_y[test_indices]\n",
    "        \n",
    "        mean_fpr, mean_tpr, mean_auc, std_auc = avg_roc(cv, pipeline, train_data, train_target, 1)\n",
    "        plot_roc(mean_fpr, mean_tpr, mean_auc, std_auc, f'{n_neighbour}-NN (Fold {fold_index})')\n",
    "\n",
    "# Decision Tree\n",
    "pipeline.set_params(estimator=DecisionTreeClassifier())\n",
    "mean_fpr, mean_tpr, mean_auc, std_auc = avg_roc(cv, pipeline, X, filtered_y.values, 1)\n",
    "plot_roc(mean_fpr, mean_tpr, mean_auc, std_auc, 'DecisionTree')\n",
    "\n",
    "# show the plot\n",
    "plt.xlabel('False Positive Rate')\n",
    "plt.ylabel('True Positive Rate')\n",
    "plt.legend()\n",
    "plt.show()\n"
   ]
  },
  {
   "cell_type": "code",
   "execution_count": null,
   "metadata": {},
   "outputs": [],
   "source": []
  }
 ],
 "metadata": {
  "kernelspec": {
   "display_name": "Python 3",
   "language": "python",
   "name": "python3"
  },
  "language_info": {
   "codemirror_mode": {
    "name": "ipython",
    "version": 3
   },
   "file_extension": ".py",
   "mimetype": "text/x-python",
   "name": "python",
   "nbconvert_exporter": "python",
   "pygments_lexer": "ipython3",
   "version": "3.12.0"
  }
 },
 "nbformat": 4,
 "nbformat_minor": 2
}
